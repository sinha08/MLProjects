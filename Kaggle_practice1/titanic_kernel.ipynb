{
 "cells": [
  {
   "cell_type": "code",
   "execution_count": 703,
   "metadata": {
    "_cell_guid": "b1076dfc-b9ad-4769-8c92-a6c4dae69d19",
    "_uuid": "8f2839f25d086af736a60e9eeb907d3b93b6e0e5",
    "collapsed": false
   },
   "outputs": [],
   "source": [
    "# This Python 3 environment comes with many helpful analytics libraries installed\n",
    "# It is defined by the kaggle/python docker image: https://github.com/kaggle/docker-python\n",
    "# For example, here's several helpful packages to load in \n",
    "\n",
    "import numpy as np # linear algebra\n",
    "import pandas as pd # data processing, CSV file I/O (e.g. pd.read_csv)\n",
    "\n",
    "# Input data files are available in the \"../input/\" directory.\n",
    "# For example, running this (by clicking run or pressing Shift+Enter) will list the files in the input directory\n",
    "\n",
    "import os\n",
    "# print(os.listdir(\"../input\"))\n",
    "\n",
    "# Any results you write to the current directory are saved as output."
   ]
  },
  {
   "cell_type": "code",
   "execution_count": 704,
   "metadata": {
    "_cell_guid": "79c7e3d0-c299-4dcb-8224-4455121ee9b0",
    "_uuid": "d629ff2d2480ee46fbb7e2d37f6b5fab8052498a",
    "collapsed": true
   },
   "outputs": [],
   "source": [
    "titanic_train = pd.read_csv(\"train.csv\")\n",
    "titanic_test = pd.read_csv(\"test.csv\")\n",
    "titanic_tcopy = titanic_test.copy()"
   ]
  },
  {
   "cell_type": "code",
   "execution_count": 705,
   "metadata": {
    "_uuid": "88e7b15106e99b083ffda81fa936b74b5d084dbc",
    "collapsed": false
   },
   "outputs": [
    {
     "name": "stdout",
     "output_type": "stream",
     "text": [
      "<class 'pandas.core.frame.DataFrame'>\n",
      "RangeIndex: 891 entries, 0 to 890\n",
      "Data columns (total 12 columns):\n",
      "PassengerId    891 non-null int64\n",
      "Survived       891 non-null int64\n",
      "Pclass         891 non-null int64\n",
      "Name           891 non-null object\n",
      "Sex            891 non-null object\n",
      "Age            714 non-null float64\n",
      "SibSp          891 non-null int64\n",
      "Parch          891 non-null int64\n",
      "Ticket         891 non-null object\n",
      "Fare           891 non-null float64\n",
      "Cabin          204 non-null object\n",
      "Embarked       889 non-null object\n",
      "dtypes: float64(2), int64(5), object(5)\n",
      "memory usage: 83.6+ KB\n"
     ]
    }
   ],
   "source": [
    "titanic_train.info()"
   ]
  },
  {
   "cell_type": "code",
   "execution_count": 706,
   "metadata": {
    "_uuid": "efd7175232eaf7071267907613e54cd6cdb7b0a5",
    "collapsed": false,
    "scrolled": true
   },
   "outputs": [
    {
     "data": {
      "text/html": [
       "<div>\n",
       "<table border=\"1\" class=\"dataframe\">\n",
       "  <thead>\n",
       "    <tr style=\"text-align: right;\">\n",
       "      <th></th>\n",
       "      <th>PassengerId</th>\n",
       "      <th>Survived</th>\n",
       "      <th>Pclass</th>\n",
       "      <th>Name</th>\n",
       "      <th>Sex</th>\n",
       "      <th>Age</th>\n",
       "      <th>SibSp</th>\n",
       "      <th>Parch</th>\n",
       "      <th>Ticket</th>\n",
       "      <th>Fare</th>\n",
       "      <th>Cabin</th>\n",
       "      <th>Embarked</th>\n",
       "    </tr>\n",
       "  </thead>\n",
       "  <tbody>\n",
       "    <tr>\n",
       "      <th>0</th>\n",
       "      <td>1</td>\n",
       "      <td>0</td>\n",
       "      <td>3</td>\n",
       "      <td>Braund, Mr. Owen Harris</td>\n",
       "      <td>male</td>\n",
       "      <td>22.0</td>\n",
       "      <td>1</td>\n",
       "      <td>0</td>\n",
       "      <td>A/5 21171</td>\n",
       "      <td>7.2500</td>\n",
       "      <td>NaN</td>\n",
       "      <td>S</td>\n",
       "    </tr>\n",
       "    <tr>\n",
       "      <th>1</th>\n",
       "      <td>2</td>\n",
       "      <td>1</td>\n",
       "      <td>1</td>\n",
       "      <td>Cumings, Mrs. John Bradley (Florence Briggs Th...</td>\n",
       "      <td>female</td>\n",
       "      <td>38.0</td>\n",
       "      <td>1</td>\n",
       "      <td>0</td>\n",
       "      <td>PC 17599</td>\n",
       "      <td>71.2833</td>\n",
       "      <td>C85</td>\n",
       "      <td>C</td>\n",
       "    </tr>\n",
       "    <tr>\n",
       "      <th>2</th>\n",
       "      <td>3</td>\n",
       "      <td>1</td>\n",
       "      <td>3</td>\n",
       "      <td>Heikkinen, Miss. Laina</td>\n",
       "      <td>female</td>\n",
       "      <td>26.0</td>\n",
       "      <td>0</td>\n",
       "      <td>0</td>\n",
       "      <td>STON/O2. 3101282</td>\n",
       "      <td>7.9250</td>\n",
       "      <td>NaN</td>\n",
       "      <td>S</td>\n",
       "    </tr>\n",
       "    <tr>\n",
       "      <th>3</th>\n",
       "      <td>4</td>\n",
       "      <td>1</td>\n",
       "      <td>1</td>\n",
       "      <td>Futrelle, Mrs. Jacques Heath (Lily May Peel)</td>\n",
       "      <td>female</td>\n",
       "      <td>35.0</td>\n",
       "      <td>1</td>\n",
       "      <td>0</td>\n",
       "      <td>113803</td>\n",
       "      <td>53.1000</td>\n",
       "      <td>C123</td>\n",
       "      <td>S</td>\n",
       "    </tr>\n",
       "    <tr>\n",
       "      <th>4</th>\n",
       "      <td>5</td>\n",
       "      <td>0</td>\n",
       "      <td>3</td>\n",
       "      <td>Allen, Mr. William Henry</td>\n",
       "      <td>male</td>\n",
       "      <td>35.0</td>\n",
       "      <td>0</td>\n",
       "      <td>0</td>\n",
       "      <td>373450</td>\n",
       "      <td>8.0500</td>\n",
       "      <td>NaN</td>\n",
       "      <td>S</td>\n",
       "    </tr>\n",
       "  </tbody>\n",
       "</table>\n",
       "</div>"
      ],
      "text/plain": [
       "   PassengerId  Survived  Pclass  \\\n",
       "0            1         0       3   \n",
       "1            2         1       1   \n",
       "2            3         1       3   \n",
       "3            4         1       1   \n",
       "4            5         0       3   \n",
       "\n",
       "                                                Name     Sex   Age  SibSp  \\\n",
       "0                            Braund, Mr. Owen Harris    male  22.0      1   \n",
       "1  Cumings, Mrs. John Bradley (Florence Briggs Th...  female  38.0      1   \n",
       "2                             Heikkinen, Miss. Laina  female  26.0      0   \n",
       "3       Futrelle, Mrs. Jacques Heath (Lily May Peel)  female  35.0      1   \n",
       "4                           Allen, Mr. William Henry    male  35.0      0   \n",
       "\n",
       "   Parch            Ticket     Fare Cabin Embarked  \n",
       "0      0         A/5 21171   7.2500   NaN        S  \n",
       "1      0          PC 17599  71.2833   C85        C  \n",
       "2      0  STON/O2. 3101282   7.9250   NaN        S  \n",
       "3      0            113803  53.1000  C123        S  \n",
       "4      0            373450   8.0500   NaN        S  "
      ]
     },
     "execution_count": 706,
     "metadata": {},
     "output_type": "execute_result"
    }
   ],
   "source": [
    "titanic_train.head()"
   ]
  },
  {
   "cell_type": "code",
   "execution_count": 707,
   "metadata": {
    "_uuid": "40fec07076e174163a59543b82a5a29e67563789",
    "collapsed": false
   },
   "outputs": [
    {
     "data": {
      "text/plain": [
       "Survived       1.000000\n",
       "Fare           0.257307\n",
       "Parch          0.081629\n",
       "PassengerId   -0.005007\n",
       "SibSp         -0.035322\n",
       "Age           -0.077221\n",
       "Pclass        -0.338481\n",
       "Name: Survived, dtype: float64"
      ]
     },
     "execution_count": 707,
     "metadata": {},
     "output_type": "execute_result"
    }
   ],
   "source": [
    "# from sklearn.preprocessing import OneHotEncoder\n",
    "# onehotencoder = OneHotEncoder(categorical_features = 'all')\n",
    "# titanic_train = onehotencoder.fit_transform(titanic_train).toarray()\n",
    "corr_matrix = titanic_train.corr()\n",
    "corr_matrix[\"Survived\"].sort_values(ascending=False)"
   ]
  },
  {
   "cell_type": "code",
   "execution_count": 708,
   "metadata": {
    "_uuid": "d668eb8b1d3784fa0003948ee3521de4c123b61d",
    "collapsed": false,
    "scrolled": true
   },
   "outputs": [
    {
     "name": "stdout",
     "output_type": "stream",
     "text": [
      "        Survived\n",
      "Sex             \n",
      "female  0.742038\n",
      "male    0.188908\n"
     ]
    }
   ],
   "source": [
    "print (titanic_train[[\"Sex\", \"Survived\"]].groupby(['Sex']).mean())"
   ]
  },
  {
   "cell_type": "code",
   "execution_count": 709,
   "metadata": {
    "_uuid": "f0a4759598e5db3d3b97b0e1902a540d63225070",
    "collapsed": false,
    "scrolled": false
   },
   "outputs": [
    {
     "name": "stdout",
     "output_type": "stream",
     "text": [
      "        Survived\n",
      "Family          \n",
      "0       0.400483\n",
      "1       0.161290\n"
     ]
    },
    {
     "data": {
      "text/plain": [
       "Survived       1.000000\n",
       "Fare           0.257307\n",
       "Parch          0.081629\n",
       "PassengerId   -0.005007\n",
       "SibSp         -0.035322\n",
       "Age           -0.077221\n",
       "Family        -0.125147\n",
       "Pclass        -0.338481\n",
       "Name: Survived, dtype: float64"
      ]
     },
     "execution_count": 709,
     "metadata": {},
     "output_type": "execute_result"
    }
   ],
   "source": [
    "titanic_train['Family'] = titanic_train['SibSp']+titanic_train['Parch']\n",
    "titanic_train.loc[(titanic_train['Family']<=3),'Family'] = 0\n",
    "titanic_train.loc[(titanic_train['Family']>3),'Family'] = 1\n",
    "titanic_tcopy['Family'] = titanic_tcopy['SibSp']+titanic_tcopy['Parch']\n",
    "titanic_tcopy.loc[(titanic_tcopy['Family']<=3),'Family'] = 0\n",
    "titanic_tcopy.loc[(titanic_tcopy['Family']>3),'Family'] = 1\n",
    "print (titanic_train[[\"Family\", \"Survived\"]].groupby(['Family']).mean())\n",
    "corr_matrix = titanic_train.corr()\n",
    "corr_matrix[\"Survived\"].sort_values(ascending=False)"
   ]
  },
  {
   "cell_type": "code",
   "execution_count": 710,
   "metadata": {
    "_uuid": "1d8304aff9aa52782cd7fdd35c35ba7810532eb1",
    "collapsed": false
   },
   "outputs": [
    {
     "name": "stdout",
     "output_type": "stream",
     "text": [
      "   Embarked  Survived\n",
      "0       0.0  0.553571\n",
      "1       1.0  0.389610\n",
      "2       2.0  0.336957\n"
     ]
    }
   ],
   "source": [
    "embark = {'C':0, 'Q':1, 'S':2}\n",
    "titanic_train['Embarked'] = titanic_train['Embarked'].map(embark)\n",
    "titanic_tcopy['Embarked'] = titanic_tcopy['Embarked'].map(embark)\n",
    "print (titanic_train[[\"Embarked\", \"Survived\"]].groupby(['Embarked'], as_index=False).mean())"
   ]
  },
  {
   "cell_type": "code",
   "execution_count": 711,
   "metadata": {
    "_uuid": "11bbc8b5cd9c5a91dccc5d395a28ebbcdc9bc9b2",
    "collapsed": true
   },
   "outputs": [],
   "source": [
    "titanic_train[\"FareCat\"] = pd.cut(titanic_train[\"Fare\"],4)\n",
    "median = titanic_train[\"Age\"].median()\n",
    "titanic_train[\"Age\"].fillna(median,inplace=True)\n",
    "titanic_train[\"AgeCat\"] = pd.cut(titanic_train[\"Age\"],5)"
   ]
  },
  {
   "cell_type": "code",
   "execution_count": 712,
   "metadata": {
    "_uuid": "75172fe7963d4f0b7c73ed5fa54a622755a4235a",
    "collapsed": false,
    "scrolled": true
   },
   "outputs": [
    {
     "name": "stdout",
     "output_type": "stream",
     "text": [
      "               FareCat  Survived\n",
      "0   (-0.512, 128.0823]  0.368113\n",
      "1  (128.0823, 256.165]  0.724138\n",
      "2   (256.165, 384.247]  0.666667\n",
      "3   (384.247, 512.329]  1.000000\n"
     ]
    }
   ],
   "source": [
    "print (titanic_train[[\"FareCat\", \"Survived\"]].groupby(['FareCat'], as_index=False).mean())"
   ]
  },
  {
   "cell_type": "code",
   "execution_count": 713,
   "metadata": {
    "_uuid": "2c60949111bb1848736d5a5be07fecf89a1aa5ef",
    "collapsed": false
   },
   "outputs": [
    {
     "name": "stdout",
     "output_type": "stream",
     "text": [
      "   Fare  Survived\n",
      "0   0.0  0.368113\n",
      "1   1.0  0.666667\n",
      "2   2.0  0.724138\n",
      "3   3.0  1.000000\n"
     ]
    }
   ],
   "source": [
    "titanic_train.loc[(titanic_train['Fare']>-0.512)&(titanic_train['Fare']<=128.082),'Fare'] = 0\n",
    "titanic_train.loc[(titanic_train['Fare']>128.082)&(titanic_train['Fare']<=256.165),'Fare'] = 2\n",
    "titanic_train.loc[(titanic_train['Fare']>256.165)&(titanic_train['Fare']<=384.247),'Fare'] = 1\n",
    "titanic_train.loc[(titanic_train['Fare']>384.247)&(titanic_train['Fare']<=512.3292),'Fare'] = 3\n",
    "\n",
    "titanic_tcopy.loc[(titanic_tcopy['Fare']>-0.512)&(titanic_tcopy['Fare']<=128.082),'Fare'] = 0\n",
    "titanic_tcopy.loc[(titanic_tcopy['Fare']>128.082)&(titanic_tcopy['Fare']<=256.165),'Fare'] = 2\n",
    "titanic_tcopy.loc[(titanic_tcopy['Fare']>256.165)&(titanic_tcopy['Fare']<=384.247),'Fare'] = 1\n",
    "titanic_tcopy.loc[(titanic_tcopy['Fare']>384.247)&(titanic_tcopy['Fare']<=512.3292),'Fare'] = 3\n",
    "print (titanic_train[[\"Fare\", \"Survived\"]].groupby(['Fare'], as_index=False).mean())"
   ]
  },
  {
   "cell_type": "code",
   "execution_count": 714,
   "metadata": {
    "_uuid": "9b5ec523cf7e3100c723f435efd8a2817e01c53a",
    "collapsed": false,
    "scrolled": false
   },
   "outputs": [
    {
     "name": "stdout",
     "output_type": "stream",
     "text": [
      "             AgeCat  Survived\n",
      "0    (0.34, 16.336]  0.550000\n",
      "1  (16.336, 32.252]  0.344168\n",
      "2  (32.252, 48.168]  0.404255\n",
      "3  (48.168, 64.084]  0.434783\n",
      "4      (64.084, 80]  0.090909\n"
     ]
    }
   ],
   "source": [
    "print (titanic_train[[\"AgeCat\", \"Survived\"]].groupby(['AgeCat'], as_index=False).mean())"
   ]
  },
  {
   "cell_type": "code",
   "execution_count": 715,
   "metadata": {
    "_uuid": "40834cd1755afb1dbd3baafcf0899397dd65af29",
    "collapsed": false
   },
   "outputs": [
    {
     "name": "stdout",
     "output_type": "stream",
     "text": [
      "   Age  Survived\n",
      "0  0.0  0.090909\n",
      "1  1.0  0.344168\n",
      "2  2.0  0.434783\n",
      "3  3.0  0.404255\n",
      "4  4.0  0.550000\n"
     ]
    }
   ],
   "source": [
    "titanic_train.loc[(titanic_train['Age']>0.34)&(titanic_train['Age']<=16.336),'Age'] = 4\n",
    "titanic_train.loc[(titanic_train['Age']>16.336)&(titanic_train['Age']<=32.252),'Age'] = 1\n",
    "titanic_train.loc[(titanic_train['Age']>32.252)&(titanic_train['Age']<=48.168),'Age'] = 3\n",
    "titanic_train.loc[(titanic_train['Age']>48.168)&(titanic_train['Age']<=64.084),'Age'] = 2\n",
    "titanic_train.loc[(titanic_train['Age']>64.084)&(titanic_train['Age']<=80),'Age'] = 0\n",
    "# titanic_train.loc[(titanic_train['Age']>40.21)&(titanic_train['Age']<=48.168),'Age'] = 5\n",
    "# titanic_train.loc[(titanic_train['Age']>48.168)&(titanic_train['Age']<=56.126),'Age'] = 6\n",
    "# titanic_train.loc[(titanic_train['Age']>56.126)&(titanic_train['Age']<=64.084),'Age'] = 7\n",
    "# titanic_train.loc[(titanic_train['Age']>64.084)&(titanic_train['Age']<=72.042),'Age'] = 8\n",
    "# titanic_train.loc[(titanic_train['Age']>72.042)&(titanic_train['Age']<=80.0),'Age'] = 9\n",
    "\n",
    "titanic_tcopy.loc[(titanic_tcopy['Age']>0.34)&(titanic_tcopy['Age']<=16.336),'Age'] = 4\n",
    "titanic_tcopy.loc[(titanic_tcopy['Age']>16.336)&(titanic_tcopy['Age']<=32.252),'Age'] = 1\n",
    "titanic_tcopy.loc[(titanic_tcopy['Age']>32.252)&(titanic_tcopy['Age']<=48.168),'Age'] = 3\n",
    "titanic_tcopy.loc[(titanic_tcopy['Age']>48.168)&(titanic_tcopy['Age']<=64.084),'Age'] = 2\n",
    "titanic_tcopy.loc[(titanic_tcopy['Age']>64.084)&(titanic_tcopy['Age']<=80),'Age'] = 0\n",
    "# titanic_tcopy.loc[(titanic_tcopy['Age']>40.21)&(titanic_tcopy['Age']<=48.168),'Age'] = 5\n",
    "# titanic_tcopy.loc[(titanic_tcopy['Age']>48.168)&(titanic_tcopy['Age']<=56.126),'Age'] = 6\n",
    "# titanic_tcopy.loc[(titanic_tcopy['Age']>56.126)&(titanic_tcopy['Age']<=64.084),'Age'] = 7\n",
    "# titanic_tcopy.loc[(titanic_tcopy['Age']>64.084)&(titanic_tcopy['Age']<=72.042),'Age'] = 8\n",
    "# titanic_tcopy.loc[(titanic_tcopy['Age']>72.042)&(titanic_tcopy['Age']<=80.0),'Age'] = 9\n",
    "\n",
    "print (titanic_train[[\"Age\", \"Survived\"]].groupby(['Age'], as_index=False).mean())"
   ]
  },
  {
   "cell_type": "code",
   "execution_count": 716,
   "metadata": {
    "_uuid": "b2523c46c4d3bc3acbd7404398aaae5ee36d4fbf",
    "collapsed": false,
    "scrolled": true
   },
   "outputs": [
    {
     "name": "stdout",
     "output_type": "stream",
     "text": [
      "   Gender  Survived\n",
      "0     0.0  0.188908\n",
      "1     1.0  0.742038\n"
     ]
    }
   ],
   "source": [
    "titanic_train.loc[titanic_train['Sex']==\"male\",'Gender'] = 0\n",
    "titanic_train.loc[titanic_train['Sex'] == \"female\", 'Gender'] = 1\n",
    "\n",
    "titanic_tcopy.loc[titanic_tcopy['Sex']==\"male\",'Gender'] = 0\n",
    "titanic_tcopy.loc[titanic_tcopy['Sex'] == \"female\", 'Gender'] = 1\n",
    "print (titanic_train[[\"Gender\", \"Survived\"]].groupby(['Gender'], as_index=False).mean())"
   ]
  },
  {
   "cell_type": "code",
   "execution_count": 717,
   "metadata": {
    "_uuid": "32d56efb7544ee0c437ddf3c1ac82d07a7192cfd",
    "collapsed": false
   },
   "outputs": [
    {
     "data": {
      "text/html": [
       "<div>\n",
       "<table border=\"1\" class=\"dataframe\">\n",
       "  <thead>\n",
       "    <tr style=\"text-align: right;\">\n",
       "      <th></th>\n",
       "      <th>PassengerId</th>\n",
       "      <th>Survived</th>\n",
       "      <th>Pclass</th>\n",
       "      <th>Name</th>\n",
       "      <th>Sex</th>\n",
       "      <th>Age</th>\n",
       "      <th>SibSp</th>\n",
       "      <th>Parch</th>\n",
       "      <th>Ticket</th>\n",
       "      <th>Fare</th>\n",
       "      <th>Cabin</th>\n",
       "      <th>Embarked</th>\n",
       "      <th>Family</th>\n",
       "      <th>FareCat</th>\n",
       "      <th>AgeCat</th>\n",
       "      <th>Gender</th>\n",
       "    </tr>\n",
       "  </thead>\n",
       "  <tbody>\n",
       "    <tr>\n",
       "      <th>0</th>\n",
       "      <td>1</td>\n",
       "      <td>0</td>\n",
       "      <td>3</td>\n",
       "      <td>Braund, Mr. Owen Harris</td>\n",
       "      <td>male</td>\n",
       "      <td>1.0</td>\n",
       "      <td>1</td>\n",
       "      <td>0</td>\n",
       "      <td>A/5 21171</td>\n",
       "      <td>0.0</td>\n",
       "      <td>NaN</td>\n",
       "      <td>2.0</td>\n",
       "      <td>0</td>\n",
       "      <td>(-0.512, 128.0823]</td>\n",
       "      <td>(16.336, 32.252]</td>\n",
       "      <td>0.0</td>\n",
       "    </tr>\n",
       "    <tr>\n",
       "      <th>1</th>\n",
       "      <td>2</td>\n",
       "      <td>1</td>\n",
       "      <td>1</td>\n",
       "      <td>Cumings, Mrs. John Bradley (Florence Briggs Th...</td>\n",
       "      <td>female</td>\n",
       "      <td>3.0</td>\n",
       "      <td>1</td>\n",
       "      <td>0</td>\n",
       "      <td>PC 17599</td>\n",
       "      <td>0.0</td>\n",
       "      <td>C85</td>\n",
       "      <td>0.0</td>\n",
       "      <td>0</td>\n",
       "      <td>(-0.512, 128.0823]</td>\n",
       "      <td>(32.252, 48.168]</td>\n",
       "      <td>1.0</td>\n",
       "    </tr>\n",
       "    <tr>\n",
       "      <th>2</th>\n",
       "      <td>3</td>\n",
       "      <td>1</td>\n",
       "      <td>3</td>\n",
       "      <td>Heikkinen, Miss. Laina</td>\n",
       "      <td>female</td>\n",
       "      <td>1.0</td>\n",
       "      <td>0</td>\n",
       "      <td>0</td>\n",
       "      <td>STON/O2. 3101282</td>\n",
       "      <td>0.0</td>\n",
       "      <td>NaN</td>\n",
       "      <td>2.0</td>\n",
       "      <td>0</td>\n",
       "      <td>(-0.512, 128.0823]</td>\n",
       "      <td>(16.336, 32.252]</td>\n",
       "      <td>1.0</td>\n",
       "    </tr>\n",
       "    <tr>\n",
       "      <th>3</th>\n",
       "      <td>4</td>\n",
       "      <td>1</td>\n",
       "      <td>1</td>\n",
       "      <td>Futrelle, Mrs. Jacques Heath (Lily May Peel)</td>\n",
       "      <td>female</td>\n",
       "      <td>3.0</td>\n",
       "      <td>1</td>\n",
       "      <td>0</td>\n",
       "      <td>113803</td>\n",
       "      <td>0.0</td>\n",
       "      <td>C123</td>\n",
       "      <td>2.0</td>\n",
       "      <td>0</td>\n",
       "      <td>(-0.512, 128.0823]</td>\n",
       "      <td>(32.252, 48.168]</td>\n",
       "      <td>1.0</td>\n",
       "    </tr>\n",
       "    <tr>\n",
       "      <th>4</th>\n",
       "      <td>5</td>\n",
       "      <td>0</td>\n",
       "      <td>3</td>\n",
       "      <td>Allen, Mr. William Henry</td>\n",
       "      <td>male</td>\n",
       "      <td>3.0</td>\n",
       "      <td>0</td>\n",
       "      <td>0</td>\n",
       "      <td>373450</td>\n",
       "      <td>0.0</td>\n",
       "      <td>NaN</td>\n",
       "      <td>2.0</td>\n",
       "      <td>0</td>\n",
       "      <td>(-0.512, 128.0823]</td>\n",
       "      <td>(32.252, 48.168]</td>\n",
       "      <td>0.0</td>\n",
       "    </tr>\n",
       "  </tbody>\n",
       "</table>\n",
       "</div>"
      ],
      "text/plain": [
       "   PassengerId  Survived  Pclass  \\\n",
       "0            1         0       3   \n",
       "1            2         1       1   \n",
       "2            3         1       3   \n",
       "3            4         1       1   \n",
       "4            5         0       3   \n",
       "\n",
       "                                                Name     Sex  Age  SibSp  \\\n",
       "0                            Braund, Mr. Owen Harris    male  1.0      1   \n",
       "1  Cumings, Mrs. John Bradley (Florence Briggs Th...  female  3.0      1   \n",
       "2                             Heikkinen, Miss. Laina  female  1.0      0   \n",
       "3       Futrelle, Mrs. Jacques Heath (Lily May Peel)  female  3.0      1   \n",
       "4                           Allen, Mr. William Henry    male  3.0      0   \n",
       "\n",
       "   Parch            Ticket  Fare Cabin  Embarked  Family             FareCat  \\\n",
       "0      0         A/5 21171   0.0   NaN       2.0       0  (-0.512, 128.0823]   \n",
       "1      0          PC 17599   0.0   C85       0.0       0  (-0.512, 128.0823]   \n",
       "2      0  STON/O2. 3101282   0.0   NaN       2.0       0  (-0.512, 128.0823]   \n",
       "3      0            113803   0.0  C123       2.0       0  (-0.512, 128.0823]   \n",
       "4      0            373450   0.0   NaN       2.0       0  (-0.512, 128.0823]   \n",
       "\n",
       "             AgeCat  Gender  \n",
       "0  (16.336, 32.252]     0.0  \n",
       "1  (32.252, 48.168]     1.0  \n",
       "2  (16.336, 32.252]     1.0  \n",
       "3  (32.252, 48.168]     1.0  \n",
       "4  (32.252, 48.168]     0.0  "
      ]
     },
     "execution_count": 717,
     "metadata": {},
     "output_type": "execute_result"
    }
   ],
   "source": [
    "titanic_train.head()"
   ]
  },
  {
   "cell_type": "code",
   "execution_count": 718,
   "metadata": {
    "_uuid": "3137a56a5bc61cdb80381cfe520f4a91afe4ae06",
    "collapsed": true
   },
   "outputs": [],
   "source": [
    "titanic_train = titanic_train.drop([\"PassengerId\",\"Name\",\"Sex\",\"AgeCat\",\"Ticket\",\"FareCat\",\"Cabin\",\"SibSp\",\"Parch\"], axis=1)\n",
    "titanic_tcopy1= titanic_tcopy.copy()\n",
    "titanic_tcopy = titanic_tcopy.drop([\"PassengerId\",\"Name\",\"Sex\",\"Ticket\",\"Cabin\",\"SibSp\",\"Parch\"], axis=1)"
   ]
  },
  {
   "cell_type": "code",
   "execution_count": 719,
   "metadata": {
    "_uuid": "40bef86def955b99237b75ecea69761d5f6dcecd",
    "collapsed": false,
    "scrolled": true
   },
   "outputs": [
    {
     "name": "stdout",
     "output_type": "stream",
     "text": [
      "   Fare  Survived\n",
      "0   0.0  0.368113\n",
      "1   1.0  0.666667\n",
      "2   2.0  0.724138\n",
      "3   3.0  1.000000\n"
     ]
    },
    {
     "data": {
      "text/plain": [
       "Survived    1.000000\n",
       "Gender      0.543351\n",
       "Fare        0.155411\n",
       "Age         0.131847\n",
       "Family     -0.125147\n",
       "Embarked   -0.169718\n",
       "Pclass     -0.338481\n",
       "Name: Survived, dtype: float64"
      ]
     },
     "execution_count": 719,
     "metadata": {},
     "output_type": "execute_result"
    }
   ],
   "source": [
    "print (titanic_train[[\"Fare\", \"Survived\"]].groupby(['Fare'], as_index=False).mean())\n",
    "corr_matrix = titanic_train.corr()\n",
    "corr_matrix[\"Survived\"].sort_values(ascending=False)"
   ]
  },
  {
   "cell_type": "code",
   "execution_count": 720,
   "metadata": {
    "_uuid": "4e6df76adfec60d919befcec2c427b03fab2d756",
    "collapsed": false,
    "scrolled": false
   },
   "outputs": [
    {
     "data": {
      "text/plain": [
       "DecisionTreeClassifier(class_weight=None, criterion='gini', max_depth=None,\n",
       "            max_features=None, max_leaf_nodes=None, min_samples_leaf=1,\n",
       "            min_samples_split=2, min_weight_fraction_leaf=0.0,\n",
       "            presort=False, random_state=None, splitter='best')"
      ]
     },
     "execution_count": 720,
     "metadata": {},
     "output_type": "execute_result"
    }
   ],
   "source": [
    "from sklearn.tree import DecisionTreeClassifier\n",
    "\n",
    "titanic_train.fillna({\"Pclass\":3,\"Age\":titanic_train['Age'].median(),\"SibSp\":0,\"Parch\":0,\"Fare\":titanic_train['Fare'].median(),\"Embarked\":0,\"Gender\":0},inplace=True)\n",
    "titanic_tcopy.fillna({\"Pclass\":3,\"Age\":titanic_train['Age'].median(),\"SibSp\":0,\"Parch\":0,\"Fare\":titanic_train['Fare'].median(),\"Embarked\":0,\"Gender\":0},inplace=True)\n",
    "# titanic_tcopy1 = titanic_tcopy1.dropna(subset=[\"Pclass\",\"Age\",\"SibSp\",\"Parch\",\"Fare\",\"Embarked\",\"Gender\"])\n",
    "titanic_label = titanic_train[\"Survived\"]\n",
    "titanic_data = titanic_train.drop(\"Survived\",axis=1)\n",
    "tree_clas = DecisionTreeClassifier()\n",
    "tree_clas.fit(titanic_data,titanic_label)"
   ]
  },
  {
   "cell_type": "code",
   "execution_count": 721,
   "metadata": {
    "_uuid": "2d72a1e31cb1b13433c47936742258c873051041",
    "collapsed": false,
    "scrolled": false
   },
   "outputs": [
    {
     "data": {
      "text/plain": [
       "SVC(C=3, cache_size=200, class_weight=None, coef0=0.0,\n",
       "  decision_function_shape=None, degree=3, gamma=0.6, kernel='rbf',\n",
       "  max_iter=-1, probability=True, random_state=None, shrinking=True,\n",
       "  tol=0.001, verbose=False)"
      ]
     },
     "execution_count": 721,
     "metadata": {},
     "output_type": "execute_result"
    }
   ],
   "source": [
    "from sklearn.ensemble import RandomForestClassifier, AdaBoostClassifier, GradientBoostingClassifier\n",
    "from sklearn.svm import SVC\n",
    "\n",
    "rf_clas = RandomForestClassifier(\n",
    "    n_estimators=200,\n",
    "    max_depth=15)\n",
    "# rf_clas = GradientBoostingClassifier()\n",
    "rf_clas = SVC(probability=True, C=3, gamma=0.6)\n",
    "rf_clas.fit(titanic_data, titanic_label)"
   ]
  },
  {
   "cell_type": "code",
   "execution_count": 722,
   "metadata": {
    "_uuid": "c9e0ea55ae0c59132c10c2c16ab527ca4324b27b",
    "collapsed": false,
    "scrolled": true
   },
   "outputs": [
    {
     "data": {
      "text/plain": [
       "0.40893499959590224"
      ]
     },
     "execution_count": 722,
     "metadata": {},
     "output_type": "execute_result"
    }
   ],
   "source": [
    "from sklearn.metrics import mean_squared_error,accuracy_score\n",
    "\n",
    "survival_prediction = tree_clas.predict(titanic_data)\n",
    "tree_mse = mean_squared_error(titanic_label, survival_prediction)\n",
    "tree_rmse = np.sqrt(tree_mse)\n",
    "tree_rmse"
   ]
  },
  {
   "cell_type": "code",
   "execution_count": 723,
   "metadata": {
    "_uuid": "60a93c51a0d115d3c85fb841aced5bf52781fe1f",
    "collapsed": false
   },
   "outputs": [
    {
     "data": {
      "text/plain": [
       "0.83164983164983164"
      ]
     },
     "execution_count": 723,
     "metadata": {},
     "output_type": "execute_result"
    }
   ],
   "source": [
    "survival_pred = rf_clas.predict(titanic_data)\n",
    "rf_mse = mean_squared_error(titanic_label, survival_pred)\n",
    "rf_rmse = np.sqrt(rf_mse)\n",
    "accuracy_score(titanic_label,survival_pred)"
   ]
  },
  {
   "cell_type": "code",
   "execution_count": 724,
   "metadata": {
    "_uuid": "0bb2ffbb6905055ad3c80cdcf6ee32aa5b25558b",
    "collapsed": true
   },
   "outputs": [],
   "source": [
    "survivors = tree_clas.predict(titanic_tcopy)\n",
    "submission = pd.DataFrame({\n",
    "        \"PassengerId\": titanic_test[\"PassengerId\"],\n",
    "        \"Survived\": survivors\n",
    "    })\n",
    "submission.to_csv('submission.csv', index=False)"
   ]
  },
  {
   "cell_type": "code",
   "execution_count": null,
   "metadata": {
    "_uuid": "8271da49e7a7344bdda3acad4cee37e44c2dc1ba",
    "collapsed": true
   },
   "outputs": [],
   "source": []
  }
 ],
 "metadata": {
  "kernelspec": {
   "display_name": "Python 2",
   "language": "python",
   "name": "python2"
  },
  "language_info": {
   "codemirror_mode": {
    "name": "ipython",
    "version": 2
   },
   "file_extension": ".py",
   "mimetype": "text/x-python",
   "name": "python",
   "nbconvert_exporter": "python",
   "pygments_lexer": "ipython2",
   "version": "2.7.11"
  }
 },
 "nbformat": 4,
 "nbformat_minor": 1
}
