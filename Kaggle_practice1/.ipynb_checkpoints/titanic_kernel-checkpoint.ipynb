{
 "cells": [
  {
   "cell_type": "code",
   "execution_count": null,
   "metadata": {
    "_cell_guid": "b1076dfc-b9ad-4769-8c92-a6c4dae69d19",
    "_uuid": "8f2839f25d086af736a60e9eeb907d3b93b6e0e5",
    "collapsed": true
   },
   "outputs": [],
   "source": [
    "# This Python 3 environment comes with many helpful analytics libraries installed\n",
    "# It is defined by the kaggle/python docker image: https://github.com/kaggle/docker-python\n",
    "# For example, here's several helpful packages to load in \n",
    "\n",
    "import numpy as np # linear algebra\n",
    "import pandas as pd # data processing, CSV file I/O (e.g. pd.read_csv)\n",
    "\n",
    "# Input data files are available in the \"../input/\" directory.\n",
    "# For example, running this (by clicking run or pressing Shift+Enter) will list the files in the input directory\n",
    "\n",
    "import os\n",
    "print(os.listdir(\"../input\"))\n",
    "\n",
    "# Any results you write to the current directory are saved as output."
   ]
  },
  {
   "cell_type": "code",
   "execution_count": null,
   "metadata": {
    "_cell_guid": "79c7e3d0-c299-4dcb-8224-4455121ee9b0",
    "_uuid": "d629ff2d2480ee46fbb7e2d37f6b5fab8052498a",
    "collapsed": true
   },
   "outputs": [],
   "source": [
    "titanic_train = pd.read_csv(\"train.csv\")\n",
    "titanic_test = pd.read_csv(\"test.csv\")\n",
    "titanic_tcopy = titanic_test.copy()"
   ]
  },
  {
   "cell_type": "code",
   "execution_count": null,
   "metadata": {
    "_uuid": "88e7b15106e99b083ffda81fa936b74b5d084dbc",
    "collapsed": true
   },
   "outputs": [],
   "source": [
    "titanic_train.info()"
   ]
  },
  {
   "cell_type": "code",
   "execution_count": null,
   "metadata": {
    "_uuid": "efd7175232eaf7071267907613e54cd6cdb7b0a5",
    "collapsed": true,
    "scrolled": true
   },
   "outputs": [],
   "source": [
    "titanic_train.head()"
   ]
  },
  {
   "cell_type": "code",
   "execution_count": null,
   "metadata": {
    "_uuid": "40fec07076e174163a59543b82a5a29e67563789",
    "collapsed": true
   },
   "outputs": [],
   "source": [
    "corr_matrix = titanic_train.corr()\n",
    "corr_matrix[\"Survived\"].sort_values(ascending=False)"
   ]
  },
  {
   "cell_type": "code",
   "execution_count": null,
   "metadata": {
    "_uuid": "d668eb8b1d3784fa0003948ee3521de4c123b61d",
    "collapsed": true
   },
   "outputs": [],
   "source": [
    "print (titanic_train[[\"Sex\", \"Survived\"]].groupby(['Sex']).mean())"
   ]
  },
  {
   "cell_type": "code",
   "execution_count": null,
   "metadata": {
    "_uuid": "1d8304aff9aa52782cd7fdd35c35ba7810532eb1",
    "collapsed": true
   },
   "outputs": [],
   "source": [
    "embark = {'C':0, 'Q':1, 'S':2}\n",
    "titanic_train['Embarked'] = titanic_train['Embarked'].map(embark)\n",
    "titanic_tcopy['Embarked'] = titanic_tcopy['Embarked'].map(embark)\n",
    "print (titanic_train[[\"Embarked\", \"Survived\"]].groupby(['Embarked'], as_index=False).mean())"
   ]
  },
  {
   "cell_type": "code",
   "execution_count": null,
   "metadata": {
    "_uuid": "11bbc8b5cd9c5a91dccc5d395a28ebbcdc9bc9b2",
    "collapsed": true
   },
   "outputs": [],
   "source": [
    "titanic_train[\"FareCat\"] = pd.cut(titanic_train[\"Fare\"],4)\n",
    "median = titanic_train[\"Age\"].median()\n",
    "titanic_train[\"Age\"].fillna(median,inplace=True)\n",
    "titanic_train[\"AgeCat\"] = pd.cut(titanic_train[\"Age\"],10)"
   ]
  },
  {
   "cell_type": "code",
   "execution_count": null,
   "metadata": {
    "_uuid": "75172fe7963d4f0b7c73ed5fa54a622755a4235a",
    "collapsed": true
   },
   "outputs": [],
   "source": [
    "print (titanic_train[[\"FareCat\", \"Survived\"]].groupby(['FareCat'], as_index=False).mean())"
   ]
  },
  {
   "cell_type": "code",
   "execution_count": null,
   "metadata": {
    "_uuid": "2c60949111bb1848736d5a5be07fecf89a1aa5ef",
    "collapsed": true
   },
   "outputs": [],
   "source": [
    "titanic_train.loc[(titanic_train['Fare']>-0.512)&(titanic_train['Fare']<=128.082),'Fare'] = 0\n",
    "titanic_train.loc[(titanic_train['Fare']>128.082)&(titanic_train['Fare']<=256.165),'Fare'] = 1\n",
    "titanic_train.loc[(titanic_train['Fare']>256.165)&(titanic_train['Fare']<=384.247),'Fare'] = 2\n",
    "titanic_train.loc[(titanic_train['Fare']>384.247)&(titanic_train['Fare']<=512.3292),'Fare'] = 3\n",
    "\n",
    "titanic_tcopy.loc[(titanic_tcopy['Fare']>-0.512)&(titanic_tcopy['Fare']<=128.082),'Fare'] = 0\n",
    "titanic_tcopy.loc[(titanic_tcopy['Fare']>128.082)&(titanic_tcopy['Fare']<=256.165),'Fare'] = 1\n",
    "titanic_tcopy.loc[(titanic_tcopy['Fare']>256.165)&(titanic_tcopy['Fare']<=384.247),'Fare'] = 2\n",
    "titanic_tcopy.loc[(titanic_tcopy['Fare']>384.247)&(titanic_tcopy['Fare']<=512.3292),'Fare'] = 3\n",
    "print (titanic_train[[\"Fare\", \"Survived\"]].groupby(['Fare'], as_index=False).mean())"
   ]
  },
  {
   "cell_type": "code",
   "execution_count": null,
   "metadata": {
    "_uuid": "9b5ec523cf7e3100c723f435efd8a2817e01c53a",
    "collapsed": true,
    "scrolled": true
   },
   "outputs": [],
   "source": [
    "print (titanic_train[[\"AgeCat\", \"Survived\"]].groupby(['AgeCat'], as_index=False).mean())"
   ]
  },
  {
   "cell_type": "code",
   "execution_count": null,
   "metadata": {
    "_uuid": "40834cd1755afb1dbd3baafcf0899397dd65af29",
    "collapsed": true
   },
   "outputs": [],
   "source": [
    "titanic_train.loc[(titanic_train['Age']>0.34)&(titanic_train['Age']<=8.378),'Age'] = 0\n",
    "titanic_train.loc[(titanic_train['Age']>8.378)&(titanic_train['Age']<=16.336),'Age'] = 1\n",
    "titanic_train.loc[(titanic_train['Age']>16.336)&(titanic_train['Age']<=24.294),'Age'] = 2\n",
    "titanic_train.loc[(titanic_train['Age']>24.294)&(titanic_train['Age']<=32.252),'Age'] = 3\n",
    "titanic_train.loc[(titanic_train['Age']>32.252)&(titanic_train['Age']<=40.21),'Age'] = 4\n",
    "titanic_train.loc[(titanic_train['Age']>40.21)&(titanic_train['Age']<=48.168),'Age'] = 5\n",
    "titanic_train.loc[(titanic_train['Age']>48.168)&(titanic_train['Age']<=56.126),'Age'] = 6\n",
    "titanic_train.loc[(titanic_train['Age']>56.126)&(titanic_train['Age']<=64.084),'Age'] = 7\n",
    "titanic_train.loc[(titanic_train['Age']>64.084)&(titanic_train['Age']<=72.042),'Age'] = 8\n",
    "titanic_train.loc[(titanic_train['Age']>72.042)&(titanic_train['Age']<=80.0),'Age'] = 9\n",
    "\n",
    "titanic_tcopy.loc[(titanic_tcopy['Age']>0.34)&(titanic_tcopy['Age']<=8.378),'Age'] = 0\n",
    "titanic_tcopy.loc[(titanic_tcopy['Age']>8.378)&(titanic_tcopy['Age']<=16.336),'Age'] = 1\n",
    "titanic_tcopy.loc[(titanic_tcopy['Age']>16.336)&(titanic_tcopy['Age']<=24.294),'Age'] = 2\n",
    "titanic_tcopy.loc[(titanic_tcopy['Age']>24.294)&(titanic_tcopy['Age']<=32.252),'Age'] = 3\n",
    "titanic_tcopy.loc[(titanic_tcopy['Age']>32.252)&(titanic_tcopy['Age']<=40.21),'Age'] = 4\n",
    "titanic_tcopy.loc[(titanic_tcopy['Age']>40.21)&(titanic_tcopy['Age']<=48.168),'Age'] = 5\n",
    "titanic_tcopy.loc[(titanic_tcopy['Age']>48.168)&(titanic_tcopy['Age']<=56.126),'Age'] = 6\n",
    "titanic_tcopy.loc[(titanic_tcopy['Age']>56.126)&(titanic_tcopy['Age']<=64.084),'Age'] = 7\n",
    "titanic_tcopy.loc[(titanic_tcopy['Age']>64.084)&(titanic_tcopy['Age']<=72.042),'Age'] = 8\n",
    "titanic_tcopy.loc[(titanic_tcopy['Age']>72.042)&(titanic_tcopy['Age']<=80.0),'Age'] = 9\n",
    "print (titanic_train[[\"Age\", \"Survived\"]].groupby(['Age'], as_index=False).mean())"
   ]
  },
  {
   "cell_type": "code",
   "execution_count": null,
   "metadata": {
    "_uuid": "b2523c46c4d3bc3acbd7404398aaae5ee36d4fbf",
    "collapsed": true,
    "scrolled": true
   },
   "outputs": [],
   "source": [
    "titanic_train.loc[titanic_train['Sex']==\"male\",'Gender'] = 0\n",
    "titanic_train.loc[titanic_train['Sex'] == \"female\", 'Gender'] = 1\n",
    "\n",
    "titanic_tcopy.loc[titanic_tcopy['Sex']==\"male\",'Gender'] = 0\n",
    "titanic_tcopy.loc[titanic_tcopy['Sex'] == \"female\", 'Gender'] = 1\n",
    "print (titanic_train[[\"Gender\", \"Survived\"]].groupby(['Gender'], as_index=False).mean())"
   ]
  },
  {
   "cell_type": "code",
   "execution_count": null,
   "metadata": {
    "_uuid": "32d56efb7544ee0c437ddf3c1ac82d07a7192cfd",
    "collapsed": true
   },
   "outputs": [],
   "source": [
    "titanic_train.head()"
   ]
  },
  {
   "cell_type": "code",
   "execution_count": null,
   "metadata": {
    "_uuid": "3137a56a5bc61cdb80381cfe520f4a91afe4ae06",
    "collapsed": true
   },
   "outputs": [],
   "source": [
    "titanic_train = titanic_train.drop([\"PassengerId\",\"Name\",\"Sex\",\"AgeCat\",\"Ticket\",\"FareCat\",\"Cabin\"], axis=1)\n",
    "titanic_tcopy1= titanic_tcopy.copy()\n",
    "titanic_tcopy = titanic_tcopy.drop([\"PassengerId\",\"Name\",\"Sex\",\"Ticket\",\"Cabin\"], axis=1)"
   ]
  },
  {
   "cell_type": "code",
   "execution_count": null,
   "metadata": {
    "_uuid": "40bef86def955b99237b75ecea69761d5f6dcecd",
    "collapsed": true,
    "scrolled": true
   },
   "outputs": [],
   "source": [
    "print (titanic_train[[\"Fare\", \"Survived\"]].groupby(['Fare'], as_index=False).mean())"
   ]
  },
  {
   "cell_type": "code",
   "execution_count": null,
   "metadata": {
    "_uuid": "4e6df76adfec60d919befcec2c427b03fab2d756",
    "collapsed": true,
    "scrolled": true
   },
   "outputs": [],
   "source": [
    "from sklearn.tree import DecisionTreeClassifier\n",
    "\n",
    "titanic_train.fillna({\"Pclass\":3,\"Age\":30,\"SibSp\":0,\"Parch\":0,\"Fare\":10,\"Embarked\":0,\"Gender\":0},inplace=True)\n",
    "titanic_tcopy.fillna({\"Pclass\":3,\"Age\":30,\"SibSp\":0,\"Parch\":0,\"Fare\":10,\"Embarked\":0,\"Gender\":0},inplace=True)\n",
    "# titanic_tcopy1 = titanic_tcopy1.dropna(subset=[\"Pclass\",\"Age\",\"SibSp\",\"Parch\",\"Fare\",\"Embarked\",\"Gender\"])\n",
    "titanic_label = titanic_train[\"Survived\"]\n",
    "titanic_data = titanic_train.drop(\"Survived\",axis=1)\n",
    "tree_clas = DecisionTreeClassifier()\n",
    "tree_clas.fit(titanic_data,titanic_label)"
   ]
  },
  {
   "cell_type": "code",
   "execution_count": null,
   "metadata": {
    "_uuid": "2d72a1e31cb1b13433c47936742258c873051041",
    "collapsed": true,
    "scrolled": true
   },
   "outputs": [],
   "source": [
    "from sklearn.ensemble import RandomForestClassifier\n",
    "\n",
    "rf_clas = RandomForestClassifier(n_jobs= -1,\n",
    "    n_estimators=500,\n",
    "     warm_start=True, \n",
    "    max_depth=6,\n",
    "    min_samples_leaf=2,\n",
    "    max_features='sqrt',\n",
    "    verbose=0)\n",
    "rf_clas.fit(titanic_data, titanic_label)"
   ]
  },
  {
   "cell_type": "code",
   "execution_count": null,
   "metadata": {
    "_uuid": "c9e0ea55ae0c59132c10c2c16ab527ca4324b27b",
    "collapsed": true
   },
   "outputs": [],
   "source": [
    "from sklearn.metrics import mean_squared_error\n",
    "\n",
    "survival_prediction = tree_clas.predict(titanic_data)\n",
    "tree_mse = mean_squared_error(titanic_label, survival_prediction)\n",
    "tree_rmse = np.sqrt(tree_mse)\n",
    "tree_rmse"
   ]
  },
  {
   "cell_type": "code",
   "execution_count": null,
   "metadata": {
    "_uuid": "60a93c51a0d115d3c85fb841aced5bf52781fe1f",
    "collapsed": true
   },
   "outputs": [],
   "source": [
    "survival_pred = rf_clas.predict(titanic_data)\n",
    "rf_mse = mean_squared_error(titanic_label, survival_pred)\n",
    "rf_rmse = np.sqrt(rf_mse)\n",
    "rf_clas.score(titanic_data, titanic_label)"
   ]
  },
  {
   "cell_type": "code",
   "execution_count": null,
   "metadata": {
    "_uuid": "0bb2ffbb6905055ad3c80cdcf6ee32aa5b25558b",
    "collapsed": true
   },
   "outputs": [],
   "source": [
    "survivors = tree_clas.predict(titanic_tcopy)\n",
    "submission = pd.DataFrame({\n",
    "        \"PassengerId\": titanic_test[\"PassengerId\"],\n",
    "        \"Survived\": survivors\n",
    "    })\n",
    "submission.to_csv('submission.csv', index=False)"
   ]
  },
  {
   "cell_type": "code",
   "execution_count": null,
   "metadata": {
    "_uuid": "8271da49e7a7344bdda3acad4cee37e44c2dc1ba",
    "collapsed": true
   },
   "outputs": [],
   "source": []
  }
 ],
 "metadata": {
  "kernelspec": {
   "display_name": "Python 2",
   "language": "python",
   "name": "python2"
  },
  "language_info": {
   "codemirror_mode": {
    "name": "ipython",
    "version": 2
   },
   "file_extension": ".py",
   "mimetype": "text/x-python",
   "name": "python",
   "nbconvert_exporter": "python",
   "pygments_lexer": "ipython2",
   "version": "2.7.11"
  }
 },
 "nbformat": 4,
 "nbformat_minor": 1
}
